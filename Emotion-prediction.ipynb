{
 "cells": [
  {
   "cell_type": "code",
   "execution_count": 1,
   "id": "93ac5f66",
   "metadata": {},
   "outputs": [
    {
     "name": "stderr",
     "output_type": "stream",
     "text": [
      "C:\\Users\\cedri\\miniconda3\\lib\\site-packages\\tqdm\\auto.py:22: TqdmWarning: IProgress not found. Please update jupyter and ipywidgets. See https://ipywidgets.readthedocs.io/en/stable/user_install.html\n",
      "  from .autonotebook import tqdm as notebook_tqdm\n"
     ]
    },
    {
     "name": "stdout",
     "output_type": "stream",
     "text": [
      "Using device cuda:0\n",
      "Num classes 7\n"
     ]
    }
   ],
   "source": [
    "import numpy as np\n",
    "import pandas as pd\n",
    "import matplotlib.pyplot as plt\n",
    "import seaborn as sns\n",
    "from sklearn.model_selection import train_test_split\n",
    "\n",
    "import torch\n",
    "import torch.nn as nn\n",
    "import torch.optim as optim\n",
    "import time\n",
    "import os\n",
    "import copy\n",
    "import torch.nn.functional as F\n",
    "from torch.utils.data import DataLoader, Dataset\n",
    "import cv2\n",
    "\n",
    "emotion_label_to_text = {0:'anger', 1:'disgust', 2:'fear', 3:'happiness', 4: 'sadness', 5: 'surprise', 6: 'neutral'}\n",
    "device = torch.device(\"cuda:0\" if torch.cuda.is_available() else \"cpu\")\n",
    "num_classes = 7\n",
    "print('Using device', device)\n",
    "print(\"Num classes\", num_classes)"
   ]
  },
  {
   "cell_type": "code",
   "execution_count": 4,
   "id": "9b50ecfc",
   "metadata": {},
   "outputs": [],
   "source": [
    "class ConvNet2(nn.Module):\n",
    "    def __init__(self, num_classes: int = 7) -> None:\n",
    "        super().__init__()\n",
    "        self.num_classes = num_classes\n",
    "        self.features = nn.Sequential(\n",
    "            \n",
    "            # 1st convo layer\n",
    "            nn.Conv2d(1, 64, kernel_size=(3,3), padding=1),\n",
    "            nn.ReLU(inplace=True),\n",
    "#             nn.BatchNorm2d(64),\n",
    "            nn.Conv2d(64, 64, kernel_size=(3,3), padding=1),\n",
    "            nn.ReLU(inplace=True),\n",
    "#             nn.BatchNorm2d(64),\n",
    "            nn.MaxPool2d(kernel_size=(2,2), stride=2),\n",
    "            nn.Dropout(),\n",
    "            \n",
    "            # 2nd convo layer\n",
    "            nn.Conv2d(64, 64, kernel_size=(3,3), padding=1),\n",
    "            nn.ReLU(inplace=True),\n",
    "#             nn.BatchNorm2d(64),\n",
    "            nn.Conv2d(64, 64, kernel_size=(3,3), padding=1),\n",
    "            nn.ReLU(inplace=True),\n",
    "#             nn.BatchNorm2d(64),\n",
    "            nn.MaxPool2d(kernel_size=(2,2), stride=2),\n",
    "            nn.Dropout(),\n",
    "            \n",
    "            # 3rd convo layer\n",
    "            nn.Conv2d(64, 128, kernel_size=(3,3), padding=1),\n",
    "            nn.ReLU(inplace=True),\n",
    "#             nn.BatchNorm2d(128),\n",
    "            nn.Conv2d(128, 128, kernel_size=(3,3), padding=1),\n",
    "            nn.ReLU(inplace=True),\n",
    "#             nn.BatchNorm2d(128),\n",
    "            nn.MaxPool2d(kernel_size=(2,2), stride=2),\n",
    "            \n",
    "        )\n",
    "        self.avgpool = nn.AdaptiveAvgPool2d((2, 2))\n",
    "        \n",
    "        #fully connected neural networks\n",
    "        self.classifier = nn.Sequential(\n",
    "            nn.Linear(128 * 6 * 6, 1024),\n",
    "            nn.ReLU(inplace=True),\n",
    "            nn.Dropout(),\n",
    "            nn.Linear(1024, 1024),\n",
    "            nn.ReLU(inplace=True),\n",
    "            nn.Dropout(),\n",
    "            nn.Linear(1024, num_classes),\n",
    "        )\n",
    "\n",
    "    def forward(self, x: torch.Tensor) -> torch.Tensor:\n",
    "        x = self.features(x)\n",
    "#         x = self.avgpool(x)\n",
    "        x = torch.flatten(x, 1)\n",
    "        x = self.classifier(x)\n",
    "#         x = F.softmax(x, dim=1)\n",
    "        return x\n"
   ]
  },
  {
   "cell_type": "code",
   "execution_count": 13,
   "id": "60c80626",
   "metadata": {},
   "outputs": [
    {
     "name": "stdout",
     "output_type": "stream",
     "text": [
      "Done\n"
     ]
    }
   ],
   "source": [
    "model = ConvNet2(num_classes)\n",
    "model.load_state_dict(torch.load('./model_state_dicts/convnet_ADAM_0.01.pth'))\n",
    "model = model.to(device)\n",
    "model.eval()\n",
    "print(\"Done\")"
   ]
  },
  {
   "cell_type": "code",
   "execution_count": 53,
   "id": "87848fe0",
   "metadata": {},
   "outputs": [],
   "source": [
    "musics = {'anger': [\"metalmusic.mp3\"], \n",
    "          'disgust': [\"eww\"], \n",
    "          'fear': [\"oooooohhh\"], \n",
    "          'happiness': [\"happy birthday\"], \n",
    "          'sadness': [\"sad!\"], \n",
    "          'surprise': [\"oh no!\"], \n",
    "          'neutral': [\"chill\"]\n",
    "         }"
   ]
  },
  {
   "cell_type": "code",
   "execution_count": 54,
   "id": "b40afca9",
   "metadata": {},
   "outputs": [],
   "source": [
    "def suggest_song(predicted_emotion):\n",
    "    try:\n",
    "        song = musics[predicted_emotion][np.random.randint(0,len(musics[predicted_emotion]))]\n",
    "    except KeyError:\n",
    "        return \"Idk!\"\n",
    "    return song"
   ]
  },
  {
   "cell_type": "code",
   "execution_count": 55,
   "id": "b53f646a",
   "metadata": {},
   "outputs": [
    {
     "name": "stdout",
     "output_type": "stream",
     "text": [
      "False\n"
     ]
    }
   ],
   "source": [
    "print('test' != 'test')"
   ]
  },
  {
   "cell_type": "code",
   "execution_count": 57,
   "id": "7e9d97a8",
   "metadata": {},
   "outputs": [],
   "source": [
    "face_haar_cascade = cv2.CascadeClassifier('data/haarcascade_frontalface_default.xml')\n",
    "\n",
    "cap=cv2.VideoCapture(0)\n",
    "\n",
    "predicted_emotion = 'happiness'\n",
    "next_emotion = 'anger'\n",
    "\n",
    "while True:\n",
    "    ret,test_img=cap.read()# captures frame and returns boolean value and captured image\n",
    "    if not ret:\n",
    "        continue\n",
    "    gray_img= cv2.cvtColor(test_img, cv2.COLOR_BGR2GRAY)\n",
    "\n",
    "    faces_detected = face_haar_cascade.detectMultiScale(gray_img, 1.32, 5)\n",
    "\n",
    "\n",
    "    try:\n",
    "        for (x,y,w,h) in faces_detected:\n",
    "            cv2.rectangle(test_img,(x,y),(x+w,y+h),(255,0,0),thickness=7)\n",
    "            roi_gray=gray_img[y:y+w,x:x+h]#cropping region of interest i.e. face area from  image\n",
    "            roi_gray=cv2.resize(roi_gray,(48,48))\n",
    "\n",
    "            img_pixels = np.array(roi_gray).astype('float32')\n",
    "            img_pixels = np.expand_dims(img_pixels, axis = 0)\n",
    "#             img_pixels /= 255\n",
    "\n",
    "            img_pixels=  torch.Tensor(img_pixels[np.newaxis,: ,: ]).to(device)\n",
    "            predictions = model(img_pixels)\n",
    "\n",
    "            _, preds = torch.max(predictions, 1)\n",
    "\n",
    "            \n",
    "            predicted_emotion = emotion_label_to_text[preds.item()]\n",
    "            \n",
    "            \n",
    "            if predicted_emotion != next_emotion:\n",
    "                print(\"I suggest you\", suggest_song(predicted_emotion))\n",
    "\n",
    "            cv2.putText(test_img, predicted_emotion, (int(x), int(y)), cv2.FONT_HERSHEY_SIMPLEX, 1, (0,0,255), 2)\n",
    "            next_emotion = predicted_emotion\n",
    "        resized_img = cv2.resize(test_img, (1000, 700))\n",
    "        cv2.imshow('Facial emotion analysis ',resized_img)\n",
    "    except Exception as error:\n",
    "        print(error)\n",
    "        cap.release()\n",
    "        cv2.destroyAllWindows\n",
    "\n",
    "\n",
    "    if cv2.waitKey(10) == ord('q'):#wait until 'q' key is pressed\n",
    "        break\n",
    "\n",
    "cap.release()\n",
    "cv2.destroyAllWindows"
   ]
  },
  {
   "cell_type": "code",
   "execution_count": null,
   "id": "72c65ed6",
   "metadata": {},
   "outputs": [],
   "source": []
  }
 ],
 "metadata": {
  "kernelspec": {
   "display_name": "Python 3 (ipykernel)",
   "language": "python",
   "name": "python3"
  },
  "language_info": {
   "codemirror_mode": {
    "name": "ipython",
    "version": 3
   },
   "file_extension": ".py",
   "mimetype": "text/x-python",
   "name": "python",
   "nbconvert_exporter": "python",
   "pygments_lexer": "ipython3",
   "version": "3.9.12"
  }
 },
 "nbformat": 4,
 "nbformat_minor": 5
}
